{
 "cells": [
  {
   "cell_type": "code",
   "execution_count": 8,
   "id": "f0739b55",
   "metadata": {
    "ExecuteTime": {
     "end_time": "2021-06-05T13:24:21.249686Z",
     "start_time": "2021-06-05T13:24:21.239648Z"
    }
   },
   "outputs": [],
   "source": [
    "import sys\n",
    "from flask import Flask, request\n",
    "import telepot\n",
    "from telepot.loop import OrderedWebhook\n",
    "import os\n"
   ]
  },
  {
   "cell_type": "code",
   "execution_count": 2,
   "id": "dce2aa57",
   "metadata": {
    "ExecuteTime": {
     "end_time": "2021-06-05T13:16:41.787005Z",
     "start_time": "2021-06-05T13:16:41.777006Z"
    }
   },
   "outputs": [],
   "source": [
    "\"\"\"\n",
    "$ python2.7 flask_skeleton.py <token> <listening_port> <webhook_url>\n",
    "\n",
    "Webhook path is '/webhook', therefore:\n",
    "\n",
    "<webhook_url>: https://<base>/webhook\n",
    "\"\"\"\n",
    "\n",
    "def on_chat_message(msg):\n",
    "    content_type, chat_type, chat_id = telepot.glance(msg)\n",
    "    print('Chat Message:', content_type, chat_type, chat_id)\n",
    "\n",
    "def on_callback_query(msg):\n",
    "    query_id, from_id, data = telepot.glance(msg, flavor='callback_query')\n",
    "    print('Callback query:', query_id, from_id, data)\n",
    "\n",
    "# need `/setinline`\n",
    "def on_inline_query(msg):\n",
    "    query_id, from_id, query_string = telepot.glance(msg, flavor='inline_query')\n",
    "    print('Inline Query:', query_id, from_id, query_string)\n",
    "\n",
    "    # Compose your own answers\n",
    "    articles = [{'type': 'article',\n",
    "                    'id': 'abc', 'title': 'ABC', 'message_text': 'Good morning'}]\n",
    "\n",
    "    bot.answerInlineQuery(query_id, articles)\n",
    "\n",
    "# need `/setinlinefeedback`\n",
    "def on_chosen_inline_result(msg):\n",
    "    result_id, from_id, query_string = telepot.glance(msg, flavor='chosen_inline_result')\n",
    "    print('Chosen Inline Result:', result_id, from_id, query_string)\n",
    "\n",
    "\n"
   ]
  },
  {
   "cell_type": "code",
   "execution_count": 15,
   "id": "0e8b55e4",
   "metadata": {
    "ExecuteTime": {
     "end_time": "2021-06-05T17:53:49.855720Z",
     "start_time": "2021-06-05T17:53:39.729422Z"
    }
   },
   "outputs": [
    {
     "name": "stdout",
     "output_type": "stream",
     "text": [
      " * Serving Flask app '__main__' (lazy loading)\n",
      " * Environment: production\n",
      "\u001b[31m   WARNING: This is a development server. Do not use it in a production deployment.\u001b[0m\n",
      "\u001b[2m   Use a production WSGI server instead.\u001b[0m\n",
      " * Debug mode: off\n"
     ]
    },
    {
     "name": "stderr",
     "output_type": "stream",
     "text": [
      " * Running on http://127.0.0.1:5000/ (Press CTRL+C to quit)\n",
      "127.0.0.1 - - [05/Jun/2021 14:53:41] \"POST /webhook HTTP/1.1\" 200 -\n"
     ]
    },
    {
     "name": "stdout",
     "output_type": "stream",
     "text": [
      "chegou algo\n",
      "Chat Message: text private 68262507\n"
     ]
    },
    {
     "name": "stderr",
     "output_type": "stream",
     "text": [
      "127.0.0.1 - - [05/Jun/2021 14:53:41] \"POST /webhook HTTP/1.1\" 200 -\n"
     ]
    },
    {
     "name": "stdout",
     "output_type": "stream",
     "text": [
      "chegou algo\n",
      "Chat Message: text private 68262507\n"
     ]
    }
   ],
   "source": [
    "TOKEN = \"1618567655:AAGSoPZoYlCmW-nPHKvjHcsGPzGgiiL_q_4\"\n",
    "PORT = 5000\n",
    "URL = \"https://ed6e498b173a.ngrok.io/webhook\"\n",
    "\n",
    "app = Flask(__name__)\n",
    "bot = telepot.Bot(TOKEN)\n",
    "webhook = OrderedWebhook(bot, {'chat': on_chat_message,\n",
    "                               'callback_query': on_callback_query,\n",
    "                               'inline_query': on_inline_query,\n",
    "                               'chosen_inline_result': on_chosen_inline_result})\n",
    "\n",
    "@app.route('/webhook', methods=['GET', 'POST'])\n",
    "def pass_update():\n",
    "    print(\"chegou algo\")\n",
    "    webhook.feed(request.data)\n",
    "    return 'OK'\n",
    "\n",
    "if __name__ == '__main__':\n",
    "    try:\n",
    "        bot.setWebhook(URL)\n",
    "    # Sometimes it would raise this error, but webhook still set successfully.\n",
    "    except telepot.exception.TooManyRequestsError:\n",
    "        print(\"erro\")\n",
    "        pass\n",
    "\n",
    "    webhook.run_as_thread()\n",
    "    port = os.environ.get( 'PORT', 5000 )\n",
    "    app.run( port=PORT)\n"
   ]
  },
  {
   "cell_type": "code",
   "execution_count": null,
   "id": "f798d2ac",
   "metadata": {},
   "outputs": [],
   "source": []
  },
  {
   "cell_type": "code",
   "execution_count": null,
   "id": "5216e3a4",
   "metadata": {},
   "outputs": [],
   "source": []
  },
  {
   "cell_type": "code",
   "execution_count": null,
   "id": "f6fb71c7",
   "metadata": {},
   "outputs": [],
   "source": []
  }
 ],
 "metadata": {
  "hide_input": false,
  "kernelspec": {
   "display_name": "Python 3",
   "language": "python",
   "name": "python3"
  },
  "language_info": {
   "codemirror_mode": {
    "name": "ipython",
    "version": 3
   },
   "file_extension": ".py",
   "mimetype": "text/x-python",
   "name": "python",
   "nbconvert_exporter": "python",
   "pygments_lexer": "ipython3",
   "version": "3.8.10"
  }
 },
 "nbformat": 4,
 "nbformat_minor": 5
}
