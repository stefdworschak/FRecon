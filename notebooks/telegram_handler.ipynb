{
 "cells": [
  {
   "cell_type": "code",
   "execution_count": 1,
   "id": "40b6ad11",
   "metadata": {
    "ExecuteTime": {
     "end_time": "2021-06-04T23:20:54.042873Z",
     "start_time": "2021-06-04T23:20:51.522675Z"
    }
   },
   "outputs": [],
   "source": [
    "import cv2\n",
    "from ReconhecimentoFacial import ReconhecimentoFacial\n",
    "import telepot\n",
    "from telepot.loop import MessageLoop\n",
    "import time"
   ]
  },
  {
   "cell_type": "code",
   "execution_count": 2,
   "id": "6d9bad3a",
   "metadata": {
    "ExecuteTime": {
     "end_time": "2021-06-04T23:20:54.272539Z",
     "start_time": "2021-06-04T23:20:54.252516Z"
    }
   },
   "outputs": [],
   "source": [
    "token = \"1618567655:AAGSoPZoYlCmW-nPHKvjHcsGPzGgiiL_q_4\"\n"
   ]
  },
  {
   "cell_type": "code",
   "execution_count": 3,
   "id": "407ac477",
   "metadata": {
    "ExecuteTime": {
     "end_time": "2021-06-04T23:20:55.362315Z",
     "start_time": "2021-06-04T23:20:54.622811Z"
    }
   },
   "outputs": [
    {
     "data": {
      "text/plain": [
       "{'id': 1618567655,\n",
       " 'is_bot': True,\n",
       " 'first_name': 'ReconhecimentoFacial',\n",
       " 'username': 'reconhecimento_bot',\n",
       " 'can_join_groups': True,\n",
       " 'can_read_all_group_messages': False,\n",
       " 'supports_inline_queries': False}"
      ]
     },
     "execution_count": 3,
     "metadata": {},
     "output_type": "execute_result"
    }
   ],
   "source": [
    "bot = telepot.Bot(token)\n",
    "bot.getMe()"
   ]
  },
  {
   "cell_type": "code",
   "execution_count": 4,
   "id": "af3f9987",
   "metadata": {
    "ExecuteTime": {
     "end_time": "2021-06-04T23:20:55.942802Z",
     "start_time": "2021-06-04T23:20:55.472794Z"
    }
   },
   "outputs": [],
   "source": [
    "reconhecimento = ReconhecimentoFacial(\"FACENET\")"
   ]
  },
  {
   "cell_type": "code",
   "execution_count": 5,
   "id": "fdb92af2",
   "metadata": {
    "ExecuteTime": {
     "end_time": "2021-06-04T23:27:29.584448Z",
     "start_time": "2021-06-04T23:20:58.978921Z"
    },
    "scrolled": true
   },
   "outputs": [
    {
     "name": "stdout",
     "output_type": "stream",
     "text": [
      "Listening ...\n",
      "text private 68262507\n",
      "text\n",
      "photo private 68262507\n",
      "photo\n",
      "enviou\n",
      "photo private 68262507\n",
      "photo\n",
      "enviou\n"
     ]
    },
    {
     "ename": "KeyboardInterrupt",
     "evalue": "",
     "output_type": "error",
     "traceback": [
      "\u001b[1;31m---------------------------------------------------------------------------\u001b[0m",
      "\u001b[1;31mKeyboardInterrupt\u001b[0m                         Traceback (most recent call last)",
      "\u001b[1;32m<ipython-input-5-370ea866b0de>\u001b[0m in \u001b[0;36m<module>\u001b[1;34m\u001b[0m\n\u001b[0;32m     21\u001b[0m \u001b[1;31m# Keep the program running.\u001b[0m\u001b[1;33m\u001b[0m\u001b[1;33m\u001b[0m\u001b[1;33m\u001b[0m\u001b[0m\n\u001b[0;32m     22\u001b[0m \u001b[1;32mwhile\u001b[0m \u001b[1;36m1\u001b[0m\u001b[1;33m:\u001b[0m\u001b[1;33m\u001b[0m\u001b[1;33m\u001b[0m\u001b[0m\n\u001b[1;32m---> 23\u001b[1;33m     \u001b[0mtime\u001b[0m\u001b[1;33m.\u001b[0m\u001b[0msleep\u001b[0m\u001b[1;33m(\u001b[0m\u001b[1;36m10\u001b[0m\u001b[1;33m)\u001b[0m\u001b[1;33m\u001b[0m\u001b[1;33m\u001b[0m\u001b[0m\n\u001b[0m",
      "\u001b[1;31mKeyboardInterrupt\u001b[0m: "
     ]
    }
   ],
   "source": [
    "def handle(msg):\n",
    "    content_type, chat_type, chat_id = telepot.glance(msg)\n",
    "    #print(content_type, chat_type, chat_id)\n",
    "\n",
    "    \n",
    "    print(content_type)\n",
    "    if content_type == 'text':\n",
    "        bot.sendMessage(chat_id, msg['text'])\n",
    "    elif content_type == 'photo':\n",
    "\n",
    "        bot.download_file(msg['photo'][-1]['file_id'], \"download_1.jpg\")\n",
    "        \n",
    "        img2 = reconhecimento.PredictFace(cv2.imread(\"download_1.jpg\"))\n",
    "        cv2.imwrite(\"upload_1.jpg\",img2)\n",
    "        bot.sendPhoto(chat_id=chat_id,photo=open('upload_1.jpg', 'rb'))\n",
    "        #print(\"enviou\")    \n",
    "            \n",
    "MessageLoop(bot, handle).run_as_thread()\n",
    "print ('Listening ...')\n",
    "\n",
    "# Keep the program running.\n",
    "while 1:\n",
    "    time.sleep(10)"
   ]
  },
  {
   "cell_type": "markdown",
   "id": "d42699db",
   "metadata": {},
   "source": [
    "## "
   ]
  },
  {
   "cell_type": "code",
   "execution_count": null,
   "id": "8fb16473",
   "metadata": {},
   "outputs": [],
   "source": []
  },
  {
   "cell_type": "code",
   "execution_count": null,
   "id": "e7ee27b9",
   "metadata": {},
   "outputs": [],
   "source": []
  },
  {
   "cell_type": "code",
   "execution_count": null,
   "id": "ddd7ebf1",
   "metadata": {},
   "outputs": [],
   "source": []
  }
 ],
 "metadata": {
  "hide_input": false,
  "kernelspec": {
   "display_name": "Python 3",
   "language": "python",
   "name": "python3"
  },
  "language_info": {
   "codemirror_mode": {
    "name": "ipython",
    "version": 3
   },
   "file_extension": ".py",
   "mimetype": "text/x-python",
   "name": "python",
   "nbconvert_exporter": "python",
   "pygments_lexer": "ipython3",
   "version": "3.8.10"
  }
 },
 "nbformat": 4,
 "nbformat_minor": 5
}
