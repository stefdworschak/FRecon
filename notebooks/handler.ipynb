{
 "cells": [
  {
   "cell_type": "code",
   "execution_count": 7,
   "id": "40b6ad11",
   "metadata": {
    "ExecuteTime": {
     "end_time": "2021-06-04T16:18:08.408458Z",
     "start_time": "2021-06-04T16:18:08.368182Z"
    }
   },
   "outputs": [],
   "source": [
    "from flask import Flask, request, Response\n",
    "import jsonpickle\n",
    "import numpy as np\n",
    "import cv2\n",
    "from ReconhecimentoFacial import ReconhecimentoFacial\n"
   ]
  },
  {
   "cell_type": "code",
   "execution_count": 17,
   "id": "1c87d1ba",
   "metadata": {
    "ExecuteTime": {
     "end_time": "2021-06-04T17:18:14.768434Z",
     "start_time": "2021-06-04T17:05:42.732126Z"
    }
   },
   "outputs": [
    {
     "name": "stdout",
     "output_type": "stream",
     "text": [
      " * Serving Flask app '__main__' (lazy loading)\n",
      " * Environment: production\n",
      "\u001b[31m   WARNING: This is a development server. Do not use it in a production deployment.\u001b[0m\n",
      "\u001b[2m   Use a production WSGI server instead.\u001b[0m\n",
      " * Debug mode: off\n"
     ]
    },
    {
     "name": "stderr",
     "output_type": "stream",
     "text": [
      " * Running on all addresses.\n",
      "   WARNING: This is a development server. Do not use it in a production deployment.\n",
      " * Running on http://192.168.0.5:5000/ (Press CTRL+C to quit)\n",
      "<ipython-input-17-aa0b250e8774>:12: DeprecationWarning: The binary mode of fromstring is deprecated, as it behaves surprisingly on unicode inputs. Use frombuffer instead\n",
      "  nparr = np.fromstring(r.data, np.uint8)\n",
      "127.0.0.1 - - [04/Jun/2021 14:05:49] \"POST /reconhecimentofacial HTTP/1.1\" 200 -\n",
      "<ipython-input-17-aa0b250e8774>:12: DeprecationWarning: The binary mode of fromstring is deprecated, as it behaves surprisingly on unicode inputs. Use frombuffer instead\n",
      "  nparr = np.fromstring(r.data, np.uint8)\n",
      "127.0.0.1 - - [04/Jun/2021 14:07:57] \"POST /reconhecimentofacial HTTP/1.1\" 200 -\n",
      "<ipython-input-17-aa0b250e8774>:12: DeprecationWarning: The binary mode of fromstring is deprecated, as it behaves surprisingly on unicode inputs. Use frombuffer instead\n",
      "  nparr = np.fromstring(r.data, np.uint8)\n",
      "127.0.0.1 - - [04/Jun/2021 14:08:11] \"POST /reconhecimentofacial HTTP/1.1\" 200 -\n",
      "<ipython-input-17-aa0b250e8774>:12: DeprecationWarning: The binary mode of fromstring is deprecated, as it behaves surprisingly on unicode inputs. Use frombuffer instead\n",
      "  nparr = np.fromstring(r.data, np.uint8)\n",
      "127.0.0.1 - - [04/Jun/2021 14:08:19] \"POST /reconhecimentofacial HTTP/1.1\" 200 -\n"
     ]
    }
   ],
   "source": [
    "\n",
    "reconhecimento = ReconhecimentoFacial(\"FACENET\")\n",
    "\n",
    "\n",
    "# initialize API\n",
    "app = Flask( __name__ )\n",
    "\n",
    "@app.route( '/reconhecimentofacial', methods=['POST'] )\n",
    "def Reconhecimento_Racial():\n",
    "    r = request\n",
    "    if not r.data is None:\n",
    "        # convert string of image data to uint8\n",
    "        nparr = np.fromstring(r.data, np.uint8)\n",
    "        # decode image\n",
    "        img = cv2.imdecode(nparr, cv2.IMREAD_COLOR)\n",
    "\n",
    "        img2 = reconhecimento.PredictFace(img)\n",
    "\n",
    "        _, img_encoded = cv2.imencode('.jpg', img2)\n",
    "        # send http request with image and receive response\n",
    "        #return Response( '{}', status=200, mimetype='application/json' )\n",
    "\n",
    "        #return Response(response = requests.post(test_url, data=img_encoded.tostring(), headers=headers))\n",
    "        response_pickled  = jsonpickle.encode( img_encoded )\n",
    "        return Response(response=response_pickled, status=200, mimetype=\"application/json\") \n",
    "        \n",
    "\n",
    "\n",
    "  \n",
    "\n",
    "    else:\n",
    "        return Response( '{}', status=200, mimetype='application/json' )\n",
    "\n",
    "if __name__ == '__main__':\n",
    "    port = os.environ.get( 'PORT', 5000 )\n",
    "    app.run( host='0.0.0.0', port=port )"
   ]
  },
  {
   "cell_type": "markdown",
   "id": "d42699db",
   "metadata": {},
   "source": [
    "## "
   ]
  },
  {
   "cell_type": "code",
   "execution_count": null,
   "id": "8fb16473",
   "metadata": {},
   "outputs": [],
   "source": []
  },
  {
   "cell_type": "code",
   "execution_count": null,
   "id": "e7ee27b9",
   "metadata": {},
   "outputs": [],
   "source": []
  },
  {
   "cell_type": "code",
   "execution_count": null,
   "id": "ddd7ebf1",
   "metadata": {},
   "outputs": [],
   "source": []
  }
 ],
 "metadata": {
  "hide_input": false,
  "kernelspec": {
   "display_name": "Python 3",
   "language": "python",
   "name": "python3"
  },
  "language_info": {
   "codemirror_mode": {
    "name": "ipython",
    "version": 3
   },
   "file_extension": ".py",
   "mimetype": "text/x-python",
   "name": "python",
   "nbconvert_exporter": "python",
   "pygments_lexer": "ipython3",
   "version": "3.8.10"
  }
 },
 "nbformat": 4,
 "nbformat_minor": 5
}
