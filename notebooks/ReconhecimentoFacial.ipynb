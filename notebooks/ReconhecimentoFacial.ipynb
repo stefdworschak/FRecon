{
 "cells": [
  {
   "cell_type": "markdown",
   "id": "0f9da58d",
   "metadata": {},
   "source": [
    "# 1.0 Imports"
   ]
  },
  {
   "cell_type": "code",
   "execution_count": 1,
   "id": "e1b4b16c",
   "metadata": {
    "ExecuteTime": {
     "end_time": "2021-06-12T13:55:36.944266Z",
     "start_time": "2021-06-12T13:52:29.539903Z"
    }
   },
   "outputs": [],
   "source": [
    "import os\n",
    "import cv2 as cv\n",
    "import numpy  as np\n",
    "import ntpath\n",
    "import math\n",
    "import pickle\n",
    "from scipy.special import softmax\n",
    "\n",
    "\n",
    "from sklearn.svm import SVC\n",
    "from sklearn.linear_model import LogisticRegression\n",
    "\n",
    "\n",
    "from IPython.core.display import HTML"
   ]
  },
  {
   "cell_type": "markdown",
   "id": "c79365dc",
   "metadata": {},
   "source": [
    "## 1.1 Pre settings"
   ]
  },
  {
   "cell_type": "code",
   "execution_count": 2,
   "id": "7d733e23",
   "metadata": {
    "ExecuteTime": {
     "end_time": "2021-06-12T13:55:36.976259Z",
     "start_time": "2021-06-12T13:55:36.944266Z"
    }
   },
   "outputs": [
    {
     "data": {
      "text/html": [
       "<style>.container { width:100% !important; }</style>"
      ],
      "text/plain": [
       "<IPython.core.display.HTML object>"
      ]
     },
     "metadata": {},
     "output_type": "display_data"
    }
   ],
   "source": [
    "display( HTML( '<style>.container { width:100% !important; }</style>') )\n"
   ]
  },
  {
   "cell_type": "code",
   "execution_count": null,
   "id": "004270bc",
   "metadata": {},
   "outputs": [],
   "source": []
  },
  {
   "cell_type": "code",
   "execution_count": 21,
   "id": "40b452f9",
   "metadata": {
    "ExecuteTime": {
     "end_time": "2021-06-12T14:10:55.894816Z",
     "start_time": "2021-06-12T14:10:55.825818Z"
    }
   },
   "outputs": [],
   "source": [
    "class ReconhecimentoFacial :\n",
    "     \n",
    "#     model_dnn_type = \"OPENFACE\"\n",
    "#     svc = None\n",
    "#     image_labels = None \n",
    "    \n",
    "    \n",
    "    def __init__(self, model_name):\n",
    "        \n",
    "        \n",
    "        self.model_dnn_type = model_name\n",
    "        self.detecta_rosto = cv.dnn.readNetFromCaffe('../modelosDNN/deploy.prototxt', '../modelosDNN/res10_300x300_ssd_iter_140000.caffemodel')\n",
    "        self.detecta_rosto.setPreferableBackend(cv.dnn.DNN_BACKEND_OPENCV)\n",
    "        self.detecta_rosto.setPreferableTarget(cv.dnn.DNN_TARGET_CPU)\n",
    "\n",
    "\n",
    "        #extracao keypoint rostos OPENFACE\n",
    "        self.open_face = cv.dnn.readNetFromTorch(\"../modelosDNN/openface/openface.nn4.small2.v1.t7\");\n",
    "        self.open_face.setPreferableBackend(cv.dnn.DNN_BACKEND_OPENCV)\n",
    "        self.open_face.setPreferableTarget(cv.dnn.DNN_TARGET_CPU)\n",
    "\n",
    "\n",
    "        self.face_net = cv.dnn.readNetFromTensorflow(\"../modelosDNN/facenet/facenet_graph_final.pb\");\n",
    "        self.face_net.setPreferableBackend(cv.dnn.DNN_BACKEND_OPENCV)\n",
    "        self.face_net.setPreferableTarget(cv.dnn.DNN_TARGET_CPU)\n",
    "        \n",
    "        model_name = \"../modeloSVM/SVC_model.pkl\"\n",
    "        if os.path.exists(model_name):\n",
    "            with open(model_name, 'rb') as file:  \n",
    "                self.svc = pickle.load(file)\n",
    "                \n",
    "        path_name = \"../modeloLR/LR_model.pkl\"\n",
    "        if os.path.exists(path_name):\n",
    "            with open(path_name, 'rb') as file:  \n",
    "                self.logistic_r = pickle.load(file)\n",
    "        \n",
    "        path_model = \"../modeloSVM/etiquetas.pkl\"\n",
    "        if os.path.exists(path_model):\n",
    "            with open(path_model, 'rb') as file:  \n",
    "                self.image_labels = pickle.load(file)\n",
    "\n",
    "     \n",
    "    def AbsoluteFilePaths(self, directory):\n",
    "        for dirpath,_,filenames in os.walk(directory):\n",
    "            for f in filenames:\n",
    "                yield os.path.abspath(os.path.join(dirpath, f))\n",
    "                \n",
    "    def ExtractDatasetData(self, path = \"../imagens\"):\n",
    "        image_labels={}\n",
    "        files=[]\n",
    "        indice_etiqueta_lista = []\n",
    "        for file in self.AbsoluteFilePaths(path):\n",
    "            #print(ntpath.basename(file))\n",
    "            files.append(file)\n",
    "            nome_arquivo = ntpath.basename(file)\n",
    "            index_1 = nome_arquivo.find(\"@\")\n",
    "            index_2 = nome_arquivo.find(\"-\")\n",
    "\n",
    "            indice_etiqueta = int(nome_arquivo[:index_1])\n",
    "            indice_etiqueta_lista.append(indice_etiqueta)\n",
    "            label_etiqueta = nome_arquivo[index_1+1:index_2]\n",
    "\n",
    "            if indice_etiqueta not in image_labels :\n",
    "                image_labels[indice_etiqueta] = label_etiqueta\n",
    "\n",
    "        return image_labels,files,indice_etiqueta_lista\n",
    "    \n",
    "   \n",
    "    def FindFaceinImage(self, path_image=\"\", img = None):\n",
    "    #correr o dataset e aplicar o modelo para recuperar as keypoints\n",
    "        if img is None:\n",
    "            img = cv.imread(path_image)\n",
    "            if img is None:\n",
    "                return None\n",
    "\n",
    "        blob = cv.dnn.blobFromImage(img, 1.0,(300,300),(104.0, 177.0, 123.0), False, False)\n",
    "        self.detecta_rosto.setInput(blob)\n",
    "        detections = self.detecta_rosto.forward()\n",
    "\n",
    "        return img, detections\n",
    "        \n",
    "    \n",
    "    def ExtractFaceRectangle(self, img, detections, confidence_threshold=0.2):\n",
    "        # loop over the detections\n",
    "        boxes = []\n",
    "        (h, w) = img.shape[:2]\n",
    "        for i in range(0, detections.shape[2]):\n",
    "            # extract the confidence (i.e., probability) associated with the\n",
    "            # prediction\n",
    "            confidence = detections[0, 0, i, 2]\n",
    "            # filter out weak detections by ensuring the `confidence` is\n",
    "            # greater than the minimum confidence\n",
    "            if confidence > confidence_threshold:\n",
    "                # compute the (x, y)-coordinates of the bounding box for the\n",
    "                # object\n",
    "                box = detections[0, 0, i, 3:7] * np.array([w, h, w, h])\n",
    "                (startX, startY, endX, endY) = box.astype(\"int\")\n",
    "                startX = max(0, min(startX, w - 1));\n",
    "                startY = max(0, min(startY, h - 1));\n",
    "                endX = max(0, min(endX, w - 1));\n",
    "                endY = max(0, min(endY, h - 1));\n",
    "\n",
    "                boxes.append([(startX, startY, endX, endY),confidence])\n",
    "\n",
    "        return boxes\n",
    "    \n",
    "    def DrawImageFaceRectangle(self, img, box, confidence, text=None):\n",
    "        # draw the bounding box of the face along with the associated\n",
    "                # probability\n",
    "        img2 = img.copy()\n",
    "        if text is None:\n",
    "            text = \"{:.2f}%\".format(confidence * 100)\n",
    "        else :\n",
    "            text = text + \"  {:.2f}%\".format(confidence * 100)\n",
    "        #(startX, startY, endX, endY) = box[0],box[1],box[2],box[3]\n",
    "        (startX, startY, endX, endY) = box\n",
    "        y = endY +20 \n",
    "        cv.rectangle(img2, (startX, startY), (endX, endY),(0, 255, 0), 1)\n",
    "        cv.putText(img2, text, (startX-20, y),cv.FONT_HERSHEY_SIMPLEX, 0.55, (0, 255, 0), 2)\n",
    "\n",
    "        return img2;\n",
    "\n",
    "\n",
    "    def TrainSVC(self, x_train, y_train):\n",
    "        self.svc = SVC(kernel = \"rbf\",C=1, gamma=0.1, class_weight=\"balanced\", decision_function_shape = \"ovr\")\n",
    "        #self.svc = SVC(kernel = \"linear\", gamma=\"auto\", class_weight=\"balanced\", decision_function_shape = \"ovr\")\n",
    "        #self.svc = SVC(kernel = \"linear\", gamma=\"auto\", class_weight=\"balanced\", decision_function_shape = \"ovr\", probability=True)\n",
    "        self.svc.fit(x_train,y_train)\n",
    "\n",
    "        model_name = \"../modeloSVM/SVC_model.pkl\"  \n",
    "\n",
    "        with open(model_name, 'wb') as file:  \n",
    "            pickle.dump(self.svc, file)\n",
    "            \n",
    "            \n",
    "    def TrainLogisticRegression(self, x_train, y_train):\n",
    "        self.logistic_r = LogisticRegression(multi_class='multinomial', solver='lbfgs' ,class_weight=\"balanced\")\n",
    "        #self.svc = SVC(kernel = \"linear\", gamma=\"auto\", class_weight=\"balanced\", decision_function_shape = \"ovr\")\n",
    "        #self.svc = SVC(kernel = \"linear\", gamma=\"auto\", class_weight=\"balanced\", decision_function_shape = \"ovr\", probability=True)\n",
    "        self.logistic_r.fit(x_train,y_train)\n",
    "\n",
    "        model_name = \"../modeloLR/LR_model.pkl\"  \n",
    "\n",
    "        with open(model_name, 'wb') as file:  \n",
    "            pickle.dump(self.logistic_r, file)\n",
    "    \n",
    "    def ExtractFacePoints(self, img):\n",
    "        vec = None\n",
    "        if self.model_dnn_type ==\"OPENFACE\":\n",
    "\n",
    "            blob_f = cv.dnn.blobFromImage(img, 1.0/255.0,(96,96),(0, 0, 0), True, False)\n",
    "            self.open_face.setInput(blob_f)\n",
    "            vec = self.open_face.forward()\n",
    "            vec = cv.normalize(vec, None,-1, 1, cv.NORM_MINMAX)\n",
    "        elif self.model_dnn_type ==\"FACENET\":\n",
    "\n",
    "            blob_f = cv.dnn.blobFromImage(img, 1.0/255.0,(160,160),(0, 0, 0), True, False)\n",
    "            self.face_net.setInput(blob_f)\n",
    "            vec = self.face_net.forward()\n",
    "            vec = cv.normalize(vec, None,-1, 1, cv.NORM_MINMAX)\n",
    "        return vec\n",
    "    \n",
    "    \n",
    "    def TrainModelfull(self):\n",
    "\n",
    "        self.image_labels,files,indice_etiqueta_lista = self.ExtractDatasetData()\n",
    "\n",
    "        indexes_ok=[]\n",
    "        array_keypoints=[]\n",
    "        for i,f in enumerate(files):\n",
    "            print(\"Coletando imagem : {} -  {}\".format(i,f))\n",
    "            img, detections = self.FindFaceinImage(path_image=f)\n",
    "            if detections is not None:\n",
    "                indexes_ok.append(i)\n",
    "                boxes = self.ExtractFaceRectangle(img,detections,0.5)\n",
    "                for b in boxes:\n",
    "                    #DrawImageFaceRectangle(img,b[0],b[1],)\n",
    "                    (startX, startY, endX, endY) = b[0]\n",
    "                    points = self.ExtractFacePoints(img[startY:endY,startX:endX])\n",
    "                    if points is not None:\n",
    "                        array_keypoints.append(points)\n",
    "\n",
    "\n",
    "        [indice_etiqueta_lista[i] for i in indexes_ok]\n",
    "\n",
    "        x_train = np.array([arr.flatten() for arr in array_keypoints])\n",
    "        \n",
    "        \n",
    "\n",
    "        \n",
    "        y_train = np.array(indice_etiqueta_lista)\n",
    "        y_train = y_train.reshape(y_train.shape[0],1).ravel()\n",
    "\n",
    "        #print(\"xtrain {}\".format(x_train.shape))\n",
    "        #print(\"ytrain {}\".format(y_train.shape))\n",
    "        \n",
    "        self.TrainSVC(x_train,y_train)\n",
    "        \n",
    "            \n",
    "        self.TrainLogisticRegression(x_train,y_train)\n",
    "        \n",
    "        model_name = \"../modeloLR/etiquetas.pkl\"  \n",
    "\n",
    "        with open(model_name, 'wb') as file:  \n",
    "            pickle.dump(self.image_labels, file)\n",
    "            \n",
    "        model_name = \"../modeloSVM/etiquetas.pkl\"  \n",
    "\n",
    "        with open(model_name, 'wb') as file:  \n",
    "            pickle.dump(self.image_labels, file)\n",
    "        \n",
    "        print(\"Train finished\")\n",
    "        \n",
    "        \n",
    "    def PredictFace(self, img, modelo_name):\n",
    "        img, detections = self.FindFaceinImage(img=img)\n",
    "        if detections is not None:\n",
    "            boxes = self.ExtractFaceRectangle(img,detections,0.4)\n",
    "            #print(boxes)\n",
    "            for b in boxes:\n",
    "                (startX, startY, endX, endY) = b[0]\n",
    "                points = self.ExtractFacePoints(img[startY:endY,startX:endX])\n",
    "                if points is not None:\n",
    "                    result=None\n",
    "                    etiqueta = None\n",
    "                    #print(\"passou\")\n",
    "                    if modelo_name == \"SVM\":\n",
    "                        if not self.svc.probability:\n",
    "                            id_ = self.svc.predict(points)\n",
    "                            df = self.svc.decision_function(points)\n",
    "                            result = np.max(softmax(df))\n",
    "                            etiqueta = self.image_labels[id_[0]]\n",
    "\n",
    "                        else:\n",
    "                            id_ = self.svc.classes_[np.argmax(self.svc.predict_proba(points))]\n",
    "                            result = np.max(self.svc.predict_proba(points))\n",
    "                            etiqueta = self.image_labels[id_]\n",
    "                    elif modelo_name == \"LR\":\n",
    "                        id_ = self.logistic_r.classes_[np.argmax(self.logistic_r.predict_proba(points))]\n",
    "                        result = np.max(self.logistic_r.predict_proba(points))\n",
    "                        etiqueta = self.image_labels[id_]\n",
    "                            \n",
    "                    img = self.DrawImageFaceRectangle(img,b[0],result,etiqueta)\n",
    "            return img"
   ]
  },
  {
   "cell_type": "code",
   "execution_count": 22,
   "id": "7fc007e3",
   "metadata": {
    "ExecuteTime": {
     "end_time": "2021-06-12T14:11:00.339719Z",
     "start_time": "2021-06-12T14:10:58.173612Z"
    }
   },
   "outputs": [],
   "source": [
    "r = ReconhecimentoFacial(\"FACENET\")"
   ]
  },
  {
   "cell_type": "code",
   "execution_count": 23,
   "id": "01934386",
   "metadata": {
    "ExecuteTime": {
     "end_time": "2021-06-12T14:11:11.211384Z",
     "start_time": "2021-06-12T14:11:01.866475Z"
    }
   },
   "outputs": [
    {
     "name": "stdout",
     "output_type": "stream",
     "text": [
      "Coletando imagem : 0 -  C:\\KLEBER\\PROJETOS PYTHON\\ReconhecimentoFacialTelegram\\imagens\\1@BOLSONARO-1.jpg\n",
      "Coletando imagem : 1 -  C:\\KLEBER\\PROJETOS PYTHON\\ReconhecimentoFacialTelegram\\imagens\\1@BOLSONARO-10.jpg\n",
      "Coletando imagem : 2 -  C:\\KLEBER\\PROJETOS PYTHON\\ReconhecimentoFacialTelegram\\imagens\\1@BOLSONARO-2.jpg\n",
      "Coletando imagem : 3 -  C:\\KLEBER\\PROJETOS PYTHON\\ReconhecimentoFacialTelegram\\imagens\\1@BOLSONARO-3.jpg\n",
      "Coletando imagem : 4 -  C:\\KLEBER\\PROJETOS PYTHON\\ReconhecimentoFacialTelegram\\imagens\\1@BOLSONARO-4.jpg\n",
      "Coletando imagem : 5 -  C:\\KLEBER\\PROJETOS PYTHON\\ReconhecimentoFacialTelegram\\imagens\\1@BOLSONARO-5.jpg\n",
      "Coletando imagem : 6 -  C:\\KLEBER\\PROJETOS PYTHON\\ReconhecimentoFacialTelegram\\imagens\\1@BOLSONARO-6.jpg\n",
      "Coletando imagem : 7 -  C:\\KLEBER\\PROJETOS PYTHON\\ReconhecimentoFacialTelegram\\imagens\\1@BOLSONARO-7.jpg\n",
      "Coletando imagem : 8 -  C:\\KLEBER\\PROJETOS PYTHON\\ReconhecimentoFacialTelegram\\imagens\\1@BOLSONARO-8.jpg\n",
      "Coletando imagem : 9 -  C:\\KLEBER\\PROJETOS PYTHON\\ReconhecimentoFacialTelegram\\imagens\\1@BOLSONARO-9.jpg\n",
      "Coletando imagem : 10 -  C:\\KLEBER\\PROJETOS PYTHON\\ReconhecimentoFacialTelegram\\imagens\\2@NEYMAR-1.jpg\n",
      "Coletando imagem : 11 -  C:\\KLEBER\\PROJETOS PYTHON\\ReconhecimentoFacialTelegram\\imagens\\2@NEYMAR-10.jpg\n",
      "Coletando imagem : 12 -  C:\\KLEBER\\PROJETOS PYTHON\\ReconhecimentoFacialTelegram\\imagens\\2@NEYMAR-2.jpg\n",
      "Coletando imagem : 13 -  C:\\KLEBER\\PROJETOS PYTHON\\ReconhecimentoFacialTelegram\\imagens\\2@NEYMAR-3.jpg\n",
      "Coletando imagem : 14 -  C:\\KLEBER\\PROJETOS PYTHON\\ReconhecimentoFacialTelegram\\imagens\\2@NEYMAR-4.jpg\n",
      "Coletando imagem : 15 -  C:\\KLEBER\\PROJETOS PYTHON\\ReconhecimentoFacialTelegram\\imagens\\2@NEYMAR-5.jpg\n",
      "Coletando imagem : 16 -  C:\\KLEBER\\PROJETOS PYTHON\\ReconhecimentoFacialTelegram\\imagens\\2@NEYMAR-6.jpg\n",
      "Coletando imagem : 17 -  C:\\KLEBER\\PROJETOS PYTHON\\ReconhecimentoFacialTelegram\\imagens\\2@NEYMAR-7.jpg\n",
      "Coletando imagem : 18 -  C:\\KLEBER\\PROJETOS PYTHON\\ReconhecimentoFacialTelegram\\imagens\\2@NEYMAR-8.jpg\n",
      "Coletando imagem : 19 -  C:\\KLEBER\\PROJETOS PYTHON\\ReconhecimentoFacialTelegram\\imagens\\2@NEYMAR-9.jpg\n",
      "Coletando imagem : 20 -  C:\\KLEBER\\PROJETOS PYTHON\\ReconhecimentoFacialTelegram\\imagens\\3@TRUMP-1.jpg\n",
      "Coletando imagem : 21 -  C:\\KLEBER\\PROJETOS PYTHON\\ReconhecimentoFacialTelegram\\imagens\\3@TRUMP-10.jpg\n",
      "Coletando imagem : 22 -  C:\\KLEBER\\PROJETOS PYTHON\\ReconhecimentoFacialTelegram\\imagens\\3@TRUMP-2.jpg\n",
      "Coletando imagem : 23 -  C:\\KLEBER\\PROJETOS PYTHON\\ReconhecimentoFacialTelegram\\imagens\\3@TRUMP-3.jpg\n",
      "Coletando imagem : 24 -  C:\\KLEBER\\PROJETOS PYTHON\\ReconhecimentoFacialTelegram\\imagens\\3@TRUMP-4.jpg\n",
      "Coletando imagem : 25 -  C:\\KLEBER\\PROJETOS PYTHON\\ReconhecimentoFacialTelegram\\imagens\\3@TRUMP-5.jpg\n",
      "Coletando imagem : 26 -  C:\\KLEBER\\PROJETOS PYTHON\\ReconhecimentoFacialTelegram\\imagens\\3@TRUMP-6.jpg\n",
      "Coletando imagem : 27 -  C:\\KLEBER\\PROJETOS PYTHON\\ReconhecimentoFacialTelegram\\imagens\\3@TRUMP-7.jpg\n",
      "Coletando imagem : 28 -  C:\\KLEBER\\PROJETOS PYTHON\\ReconhecimentoFacialTelegram\\imagens\\3@TRUMP-8.jpg\n",
      "Coletando imagem : 29 -  C:\\KLEBER\\PROJETOS PYTHON\\ReconhecimentoFacialTelegram\\imagens\\3@TRUMP-9.jpg\n",
      "Coletando imagem : 30 -  C:\\KLEBER\\PROJETOS PYTHON\\ReconhecimentoFacialTelegram\\imagens\\4@MADONNA-01.jpg\n",
      "Coletando imagem : 31 -  C:\\KLEBER\\PROJETOS PYTHON\\ReconhecimentoFacialTelegram\\imagens\\4@MADONNA-02.jpg\n",
      "Coletando imagem : 32 -  C:\\KLEBER\\PROJETOS PYTHON\\ReconhecimentoFacialTelegram\\imagens\\4@MADONNA-03.jpg\n",
      "Coletando imagem : 33 -  C:\\KLEBER\\PROJETOS PYTHON\\ReconhecimentoFacialTelegram\\imagens\\4@MADONNA-04.jpg\n",
      "Coletando imagem : 34 -  C:\\KLEBER\\PROJETOS PYTHON\\ReconhecimentoFacialTelegram\\imagens\\4@MADONNA-05.jpg\n",
      "Coletando imagem : 35 -  C:\\KLEBER\\PROJETOS PYTHON\\ReconhecimentoFacialTelegram\\imagens\\4@MADONNA-06.jpg\n",
      "Coletando imagem : 36 -  C:\\KLEBER\\PROJETOS PYTHON\\ReconhecimentoFacialTelegram\\imagens\\4@MADONNA-07.jpg\n",
      "Coletando imagem : 37 -  C:\\KLEBER\\PROJETOS PYTHON\\ReconhecimentoFacialTelegram\\imagens\\4@MADONNA-08.jpg\n",
      "Coletando imagem : 38 -  C:\\KLEBER\\PROJETOS PYTHON\\ReconhecimentoFacialTelegram\\imagens\\4@MADONNA-09.jpg\n",
      "Coletando imagem : 39 -  C:\\KLEBER\\PROJETOS PYTHON\\ReconhecimentoFacialTelegram\\imagens\\4@MADONNA-10.jpg\n",
      "Coletando imagem : 40 -  C:\\KLEBER\\PROJETOS PYTHON\\ReconhecimentoFacialTelegram\\imagens\\5@OBAMA-1.jpg\n",
      "Coletando imagem : 41 -  C:\\KLEBER\\PROJETOS PYTHON\\ReconhecimentoFacialTelegram\\imagens\\5@OBAMA-10.jpg\n",
      "Coletando imagem : 42 -  C:\\KLEBER\\PROJETOS PYTHON\\ReconhecimentoFacialTelegram\\imagens\\5@OBAMA-2.jpg\n",
      "Coletando imagem : 43 -  C:\\KLEBER\\PROJETOS PYTHON\\ReconhecimentoFacialTelegram\\imagens\\5@OBAMA-3.jpg\n",
      "Coletando imagem : 44 -  C:\\KLEBER\\PROJETOS PYTHON\\ReconhecimentoFacialTelegram\\imagens\\5@OBAMA-4.jpg\n",
      "Coletando imagem : 45 -  C:\\KLEBER\\PROJETOS PYTHON\\ReconhecimentoFacialTelegram\\imagens\\5@OBAMA-5.jpg\n",
      "Coletando imagem : 46 -  C:\\KLEBER\\PROJETOS PYTHON\\ReconhecimentoFacialTelegram\\imagens\\5@OBAMA-6.jpg\n",
      "Coletando imagem : 47 -  C:\\KLEBER\\PROJETOS PYTHON\\ReconhecimentoFacialTelegram\\imagens\\5@OBAMA-7.jpg\n",
      "Coletando imagem : 48 -  C:\\KLEBER\\PROJETOS PYTHON\\ReconhecimentoFacialTelegram\\imagens\\5@OBAMA-8.png\n",
      "Coletando imagem : 49 -  C:\\KLEBER\\PROJETOS PYTHON\\ReconhecimentoFacialTelegram\\imagens\\5@OBAMA-9.jpg\n",
      "Train finished\n"
     ]
    }
   ],
   "source": [
    "r.TrainModelfull()"
   ]
  },
  {
   "cell_type": "code",
   "execution_count": 17,
   "id": "dab64760",
   "metadata": {
    "ExecuteTime": {
     "end_time": "2021-06-06T12:43:20.287496Z",
     "start_time": "2021-06-06T12:43:08.206788Z"
    }
   },
   "outputs": [],
   "source": [
    "img = cv.imread(\"WhatsApp.jpg\")\n",
    "img2 = r.PredictFace(img,\"SVM\")\n",
    "cv.imshow(\"Output\", img2)\n",
    "cv.waitKey(0)\n",
    "cv.destroyAllWindows()\n",
    "\n",
    "img2 = r.PredictFace(img,\"LR\")\n",
    "cv.imshow(\"Output\", img2)\n",
    "cv.waitKey(0)\n",
    "cv.destroyAllWindows()\n",
    "\n"
   ]
  },
  {
   "cell_type": "code",
   "execution_count": null,
   "id": "b311df79",
   "metadata": {},
   "outputs": [],
   "source": []
  },
  {
   "cell_type": "code",
   "execution_count": null,
   "id": "596aa80e",
   "metadata": {},
   "outputs": [],
   "source": []
  },
  {
   "cell_type": "code",
   "execution_count": 70,
   "id": "7f155d53",
   "metadata": {
    "ExecuteTime": {
     "end_time": "2021-06-04T14:59:56.195953Z",
     "start_time": "2021-06-04T14:59:55.678346Z"
    }
   },
   "outputs": [
    {
     "data": {
      "text/plain": [
       "158"
      ]
     },
     "execution_count": 70,
     "metadata": {},
     "output_type": "execute_result"
    }
   ],
   "source": [
    "del(img)\n",
    "del(img2)\n",
    "import gc\n",
    "gc.collect()"
   ]
  },
  {
   "cell_type": "code",
   "execution_count": null,
   "id": "d9988748",
   "metadata": {},
   "outputs": [],
   "source": []
  },
  {
   "cell_type": "code",
   "execution_count": null,
   "id": "4ad97f72",
   "metadata": {},
   "outputs": [],
   "source": []
  },
  {
   "cell_type": "code",
   "execution_count": null,
   "id": "05403b36",
   "metadata": {},
   "outputs": [],
   "source": []
  },
  {
   "cell_type": "code",
   "execution_count": null,
   "id": "0e177b21",
   "metadata": {},
   "outputs": [],
   "source": []
  },
  {
   "cell_type": "code",
   "execution_count": null,
   "id": "17a72cfb",
   "metadata": {},
   "outputs": [],
   "source": []
  },
  {
   "cell_type": "code",
   "execution_count": null,
   "id": "4c25606c",
   "metadata": {},
   "outputs": [],
   "source": []
  }
 ],
 "metadata": {
  "hide_input": false,
  "kernelspec": {
   "display_name": "Python 3",
   "language": "python",
   "name": "python3"
  },
  "language_info": {
   "codemirror_mode": {
    "name": "ipython",
    "version": 3
   },
   "file_extension": ".py",
   "mimetype": "text/x-python",
   "name": "python",
   "nbconvert_exporter": "python",
   "pygments_lexer": "ipython3",
   "version": "3.8.10"
  }
 },
 "nbformat": 4,
 "nbformat_minor": 5
}
